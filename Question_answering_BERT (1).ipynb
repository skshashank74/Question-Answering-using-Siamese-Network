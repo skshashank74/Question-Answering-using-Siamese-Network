{
 "cells": [
  {
   "cell_type": "code",
   "execution_count": 1,
   "metadata": {
    "id": "0niQi8Pa40yZ"
   },
   "outputs": [],
   "source": [
    "import numpy as np\n",
    "import tensorflow as tf"
   ]
  },
  {
   "cell_type": "code",
   "execution_count": null,
   "metadata": {
    "colab": {
     "base_uri": "https://localhost:8080/"
    },
    "id": "mJdB0ANn5G5G",
    "outputId": "746fa916-3e87-4fd1-9bf2-7d25bd22a464"
   },
   "outputs": [
    {
     "name": "stdout",
     "output_type": "stream",
     "text": [
      "Mounted at /content/drive\n"
     ]
    }
   ],
   "source": [
    "from google.colab import drive\n",
    "drive.mount('/content/drive') "
   ]
  },
  {
   "cell_type": "code",
   "execution_count": 7,
   "metadata": {
    "colab": {
     "base_uri": "https://localhost:8080/"
    },
    "id": "L76FhY_G1Jum",
    "outputId": "ac2a73cf-3f16-441b-c607-96662202907a"
   },
   "outputs": [
    {
     "name": "stdout",
     "output_type": "stream",
     "text": [
      "Archive:  /content/simplified-nq-train.jsonl.zip\n",
      "  inflating: simplified-nq-train.jsonl  \n"
     ]
    }
   ],
   "source": [
    "! unzip /content/simplified-nq-train.jsonl.zip\n",
    "# ! pip install kaggle\n",
    "# ! mkdir ~/.kaggle\n",
    "# ! cp kaggle.json ~/.kaggle/\n",
    "# ! chmod 600 ~/.kaggle/kaggle.json\n",
    "# ! kaggle competitions download -c tensorflow2-question-answering"
   ]
  },
  {
   "cell_type": "code",
   "execution_count": 8,
   "metadata": {
    "id": "cQKUZjEI7B5H"
   },
   "outputs": [],
   "source": [
    "import json\n",
    "from tqdm.notebook import tqdm\n",
    "\n",
    "import numpy as np \n",
    "import pandas as pd\n",
    "import matplotlib.pyplot as plt\n",
    "\n",
    "import tensorflow as tf\n",
    "from tensorflow.keras.layers import LSTM, Bidirectional, GlobalMaxPooling1D, SpatialDropout1D, Dense, Dropout, Input, concatenate, Conv1D, Activation, Flatten\n",
    "\n",
    "from nltk.corpus import stopwords\n",
    "import re\n",
    "\n"
   ]
  },
  {
   "cell_type": "code",
   "execution_count": 10,
   "metadata": {
    "id": "5qS43pc38dR9"
   },
   "outputs": [],
   "source": [
    "# data load preprocessing\n",
    "\n",
    "def get_line_of_data(file):\n",
    "    line = file.readline()\n",
    "    line = json.loads(line)\n",
    "    \n",
    "    return line\n",
    "\n",
    "\n",
    "def get_question_and_document(line):\n",
    "    question = line['question_text']\n",
    "    text = line['document_text'].split(' ')\n",
    "    annotations = line['annotations'][0]\n",
    "    \n",
    "    return question, text, annotations\n",
    "                \n",
    "                \n",
    "def get_long_candidate(i, annotations, candidate):\n",
    "    # check if this candidate is the correct answer\n",
    "    if i == annotations['long_answer']['candidate_index']:\n",
    "        label = True\n",
    "    else:\n",
    "        label = False\n",
    "\n",
    "    # get place where long answer starts and ends in the document text\n",
    "    long_start = candidate['start_token']\n",
    "    long_end = candidate['end_token']\n",
    "    \n",
    "    return label, long_start, long_end\n",
    "\n",
    "\n",
    "def form_data_row(question, label, text, long_start, long_end):\n",
    "    row = {\n",
    "        'question': question,\n",
    "        'long_answer': ' '.join(text[long_start:long_end]),\n",
    "        'is_long_answer': label,\n",
    "    }\n",
    "    \n",
    "    return row\n",
    "\n",
    "\n",
    "# Lloading function for train and validation set\n",
    "def load_data(file_path, questions_start, questions_end, validation_set= False):\n",
    "    rows = []\n",
    "    \n",
    "    with open(file_path) as file:\n",
    "\n",
    "        for i in tqdm(range(questions_start, questions_end)):\n",
    "            line = get_line_of_data(file)\n",
    "            question, text, annotations = get_question_and_document(line)\n",
    "\n",
    "            for i, candidate in enumerate(line['long_answer_candidates']):\n",
    "                label, long_start, long_end = get_long_candidate(i, annotations, candidate)\n",
    "                \n",
    "                if validation_set == False:\n",
    "                    \n",
    "                    if label == True or (i % SAMPLE_RATE == 0):\n",
    "                        rows.append(\n",
    "                            form_data_row(question, label, text, long_start, long_end)\n",
    "                        )\n",
    "                else:\n",
    "                    \n",
    "                    rows.append(\n",
    "                            form_data_row(question, label, text, long_start, long_end)\n",
    "                        )\n",
    "            #print(i, len(rows))\n",
    "        \n",
    "    return pd.DataFrame(rows)"
   ]
  },
  {
   "cell_type": "code",
   "execution_count": 11,
   "metadata": {
    "id": "fMq_fSTF9qfG"
   },
   "outputs": [],
   "source": [
    "SAMPLE_RATE = 15\n",
    "TRAIN_PATH = '../content/simplified-nq-train.jsonl'\n",
    "\n"
   ]
  },
  {
   "cell_type": "code",
   "execution_count": 12,
   "metadata": {
    "colab": {
     "base_uri": "https://localhost:8080/",
     "height": 81,
     "referenced_widgets": [
      "da734e8a15ee41a8bbfe11744849edf7",
      "8bac557e893f46c39fc8d1e6b2a9ee39",
      "85b09ad7db0a42058a023e382ed59758",
      "ee9ec5b0114242b9bbf90239f76128b5",
      "af243f579f554c7fb57eb38a481298b4",
      "6af2e99023be458dace8031d28fe026d",
      "b6e734c22b9342b8961e137543abd840",
      "f12c0513dfea40bb877e171b189f9ffb",
      "a4728aa32eb14f44b1c4aaf31344f8f9",
      "6833dad953054dcc86342998d67c8b9e",
      "820e2e502a1544d6a76e3a54be5dc1ef",
      "308af9efb096453ba9337f8dc4bc0624",
      "9b83964562294599b19c1b318f199df9",
      "76f631a6487a4315a320611dd64294a1",
      "9a08b64f179d45048b06402350421ab3",
      "ef47cb65046c47e9b1678d85b3ad565f",
      "2862aa88dc4e4af6ade4a3fdf8afb1d4",
      "521fe9032d12467caaa5d4351e1a27e7",
      "b71d9a547eb142a2a624ce71baf7572e",
      "6ebc03bdeaa946e6bd06089939c1bb91",
      "6647ed99e8c3493d8fedbcf5ddb5e8f1",
      "20e151a7dca04b81bbde867b9e62b253"
     ]
    },
    "id": "3FfjBGMP_koC",
    "outputId": "bab6f62b-7856-4ec5-b179-58742fa8bbd3"
   },
   "outputs": [
    {
     "data": {
      "application/vnd.jupyter.widget-view+json": {
       "model_id": "da734e8a15ee41a8bbfe11744849edf7",
       "version_major": 2,
       "version_minor": 0
      },
      "text/plain": [
       "  0%|          | 0/10000 [00:00<?, ?it/s]"
      ]
     },
     "metadata": {},
     "output_type": "display_data"
    },
    {
     "data": {
      "application/vnd.jupyter.widget-view+json": {
       "model_id": "308af9efb096453ba9337f8dc4bc0624",
       "version_major": 2,
       "version_minor": 0
      },
      "text/plain": [
       "  0%|          | 0/2000 [00:00<?, ?it/s]"
      ]
     },
     "metadata": {},
     "output_type": "display_data"
    }
   ],
   "source": [
    "# change the number of rows here\n",
    "train_df = load_data(TRAIN_PATH, 0, 20000, validation_set= False)\n",
    "val_df = load_data(TRAIN_PATH, 20000, 25000, validation_set= False)"
   ]
  },
  {
   "cell_type": "code",
   "execution_count": 13,
   "metadata": {
    "id": "8sAkqiFqAWC3"
   },
   "outputs": [],
   "source": [
    "# import BERT tokenization\n",
    "\n",
    "!wget --quiet https://raw.githubusercontent.com/tensorflow/models/master/official/nlp/bert/tokenization.py"
   ]
  },
  {
   "cell_type": "code",
   "execution_count": 14,
   "metadata": {
    "colab": {
     "base_uri": "https://localhost:8080/"
    },
    "id": "oUyd6jHpAumt",
    "outputId": "ddebed53-574e-471d-8c16-a727324f9d94"
   },
   "outputs": [
    {
     "name": "stdout",
     "output_type": "stream",
     "text": [
      "Collecting sentencepiece\n",
      "  Downloading sentencepiece-0.1.96-cp37-cp37m-manylinux_2_17_x86_64.manylinux2014_x86_64.whl (1.2 MB)\n",
      "\u001b[?25l\r",
      "\u001b[K     |▎                               | 10 kB 25.7 MB/s eta 0:00:01\r",
      "\u001b[K     |▌                               | 20 kB 29.0 MB/s eta 0:00:01\r",
      "\u001b[K     |▉                               | 30 kB 26.0 MB/s eta 0:00:01\r",
      "\u001b[K     |█                               | 40 kB 19.0 MB/s eta 0:00:01\r",
      "\u001b[K     |█▍                              | 51 kB 11.4 MB/s eta 0:00:01\r",
      "\u001b[K     |█▋                              | 61 kB 9.2 MB/s eta 0:00:01\r",
      "\u001b[K     |██                              | 71 kB 10.1 MB/s eta 0:00:01\r",
      "\u001b[K     |██▏                             | 81 kB 11.2 MB/s eta 0:00:01\r",
      "\u001b[K     |██▍                             | 92 kB 9.5 MB/s eta 0:00:01\r",
      "\u001b[K     |██▊                             | 102 kB 10.2 MB/s eta 0:00:01\r",
      "\u001b[K     |███                             | 112 kB 10.2 MB/s eta 0:00:01\r",
      "\u001b[K     |███▎                            | 122 kB 10.2 MB/s eta 0:00:01\r",
      "\u001b[K     |███▌                            | 133 kB 10.2 MB/s eta 0:00:01\r",
      "\u001b[K     |███▉                            | 143 kB 10.2 MB/s eta 0:00:01\r",
      "\u001b[K     |████                            | 153 kB 10.2 MB/s eta 0:00:01\r",
      "\u001b[K     |████▎                           | 163 kB 10.2 MB/s eta 0:00:01\r",
      "\u001b[K     |████▋                           | 174 kB 10.2 MB/s eta 0:00:01\r",
      "\u001b[K     |████▉                           | 184 kB 10.2 MB/s eta 0:00:01\r",
      "\u001b[K     |█████▏                          | 194 kB 10.2 MB/s eta 0:00:01\r",
      "\u001b[K     |█████▍                          | 204 kB 10.2 MB/s eta 0:00:01\r",
      "\u001b[K     |█████▊                          | 215 kB 10.2 MB/s eta 0:00:01\r",
      "\u001b[K     |██████                          | 225 kB 10.2 MB/s eta 0:00:01\r",
      "\u001b[K     |██████▏                         | 235 kB 10.2 MB/s eta 0:00:01\r",
      "\u001b[K     |██████▌                         | 245 kB 10.2 MB/s eta 0:00:01\r",
      "\u001b[K     |██████▊                         | 256 kB 10.2 MB/s eta 0:00:01\r",
      "\u001b[K     |███████                         | 266 kB 10.2 MB/s eta 0:00:01\r",
      "\u001b[K     |███████▎                        | 276 kB 10.2 MB/s eta 0:00:01\r",
      "\u001b[K     |███████▋                        | 286 kB 10.2 MB/s eta 0:00:01\r",
      "\u001b[K     |███████▉                        | 296 kB 10.2 MB/s eta 0:00:01\r",
      "\u001b[K     |████████                        | 307 kB 10.2 MB/s eta 0:00:01\r",
      "\u001b[K     |████████▍                       | 317 kB 10.2 MB/s eta 0:00:01\r",
      "\u001b[K     |████████▋                       | 327 kB 10.2 MB/s eta 0:00:01\r",
      "\u001b[K     |█████████                       | 337 kB 10.2 MB/s eta 0:00:01\r",
      "\u001b[K     |█████████▏                      | 348 kB 10.2 MB/s eta 0:00:01\r",
      "\u001b[K     |█████████▌                      | 358 kB 10.2 MB/s eta 0:00:01\r",
      "\u001b[K     |█████████▊                      | 368 kB 10.2 MB/s eta 0:00:01\r",
      "\u001b[K     |██████████                      | 378 kB 10.2 MB/s eta 0:00:01\r",
      "\u001b[K     |██████████▎                     | 389 kB 10.2 MB/s eta 0:00:01\r",
      "\u001b[K     |██████████▌                     | 399 kB 10.2 MB/s eta 0:00:01\r",
      "\u001b[K     |██████████▉                     | 409 kB 10.2 MB/s eta 0:00:01\r",
      "\u001b[K     |███████████                     | 419 kB 10.2 MB/s eta 0:00:01\r",
      "\u001b[K     |███████████▍                    | 430 kB 10.2 MB/s eta 0:00:01\r",
      "\u001b[K     |███████████▋                    | 440 kB 10.2 MB/s eta 0:00:01\r",
      "\u001b[K     |███████████▉                    | 450 kB 10.2 MB/s eta 0:00:01\r",
      "\u001b[K     |████████████▏                   | 460 kB 10.2 MB/s eta 0:00:01\r",
      "\u001b[K     |████████████▍                   | 471 kB 10.2 MB/s eta 0:00:01\r",
      "\u001b[K     |████████████▊                   | 481 kB 10.2 MB/s eta 0:00:01\r",
      "\u001b[K     |█████████████                   | 491 kB 10.2 MB/s eta 0:00:01\r",
      "\u001b[K     |█████████████▎                  | 501 kB 10.2 MB/s eta 0:00:01\r",
      "\u001b[K     |█████████████▌                  | 512 kB 10.2 MB/s eta 0:00:01\r",
      "\u001b[K     |█████████████▊                  | 522 kB 10.2 MB/s eta 0:00:01\r",
      "\u001b[K     |██████████████                  | 532 kB 10.2 MB/s eta 0:00:01\r",
      "\u001b[K     |██████████████▎                 | 542 kB 10.2 MB/s eta 0:00:01\r",
      "\u001b[K     |██████████████▋                 | 552 kB 10.2 MB/s eta 0:00:01\r",
      "\u001b[K     |██████████████▉                 | 563 kB 10.2 MB/s eta 0:00:01\r",
      "\u001b[K     |███████████████▏                | 573 kB 10.2 MB/s eta 0:00:01\r",
      "\u001b[K     |███████████████▍                | 583 kB 10.2 MB/s eta 0:00:01\r",
      "\u001b[K     |███████████████▋                | 593 kB 10.2 MB/s eta 0:00:01\r",
      "\u001b[K     |████████████████                | 604 kB 10.2 MB/s eta 0:00:01\r",
      "\u001b[K     |████████████████▏               | 614 kB 10.2 MB/s eta 0:00:01\r",
      "\u001b[K     |████████████████▌               | 624 kB 10.2 MB/s eta 0:00:01\r",
      "\u001b[K     |████████████████▊               | 634 kB 10.2 MB/s eta 0:00:01\r",
      "\u001b[K     |█████████████████               | 645 kB 10.2 MB/s eta 0:00:01\r",
      "\u001b[K     |█████████████████▎              | 655 kB 10.2 MB/s eta 0:00:01\r",
      "\u001b[K     |█████████████████▌              | 665 kB 10.2 MB/s eta 0:00:01\r",
      "\u001b[K     |█████████████████▉              | 675 kB 10.2 MB/s eta 0:00:01\r",
      "\u001b[K     |██████████████████              | 686 kB 10.2 MB/s eta 0:00:01\r",
      "\u001b[K     |██████████████████▍             | 696 kB 10.2 MB/s eta 0:00:01\r",
      "\u001b[K     |██████████████████▋             | 706 kB 10.2 MB/s eta 0:00:01\r",
      "\u001b[K     |███████████████████             | 716 kB 10.2 MB/s eta 0:00:01\r",
      "\u001b[K     |███████████████████▏            | 727 kB 10.2 MB/s eta 0:00:01\r",
      "\u001b[K     |███████████████████▍            | 737 kB 10.2 MB/s eta 0:00:01\r",
      "\u001b[K     |███████████████████▊            | 747 kB 10.2 MB/s eta 0:00:01\r",
      "\u001b[K     |████████████████████            | 757 kB 10.2 MB/s eta 0:00:01\r",
      "\u001b[K     |████████████████████▎           | 768 kB 10.2 MB/s eta 0:00:01\r",
      "\u001b[K     |████████████████████▌           | 778 kB 10.2 MB/s eta 0:00:01\r",
      "\u001b[K     |████████████████████▉           | 788 kB 10.2 MB/s eta 0:00:01\r",
      "\u001b[K     |█████████████████████           | 798 kB 10.2 MB/s eta 0:00:01\r",
      "\u001b[K     |█████████████████████▎          | 808 kB 10.2 MB/s eta 0:00:01\r",
      "\u001b[K     |█████████████████████▋          | 819 kB 10.2 MB/s eta 0:00:01\r",
      "\u001b[K     |█████████████████████▉          | 829 kB 10.2 MB/s eta 0:00:01\r",
      "\u001b[K     |██████████████████████▏         | 839 kB 10.2 MB/s eta 0:00:01\r",
      "\u001b[K     |██████████████████████▍         | 849 kB 10.2 MB/s eta 0:00:01\r",
      "\u001b[K     |██████████████████████▊         | 860 kB 10.2 MB/s eta 0:00:01\r",
      "\u001b[K     |███████████████████████         | 870 kB 10.2 MB/s eta 0:00:01\r",
      "\u001b[K     |███████████████████████▏        | 880 kB 10.2 MB/s eta 0:00:01\r",
      "\u001b[K     |███████████████████████▌        | 890 kB 10.2 MB/s eta 0:00:01\r",
      "\u001b[K     |███████████████████████▊        | 901 kB 10.2 MB/s eta 0:00:01\r",
      "\u001b[K     |████████████████████████        | 911 kB 10.2 MB/s eta 0:00:01\r",
      "\u001b[K     |████████████████████████▎       | 921 kB 10.2 MB/s eta 0:00:01\r",
      "\u001b[K     |████████████████████████▋       | 931 kB 10.2 MB/s eta 0:00:01\r",
      "\u001b[K     |████████████████████████▉       | 942 kB 10.2 MB/s eta 0:00:01\r",
      "\u001b[K     |█████████████████████████       | 952 kB 10.2 MB/s eta 0:00:01\r",
      "\u001b[K     |█████████████████████████▍      | 962 kB 10.2 MB/s eta 0:00:01\r",
      "\u001b[K     |█████████████████████████▋      | 972 kB 10.2 MB/s eta 0:00:01\r",
      "\u001b[K     |██████████████████████████      | 983 kB 10.2 MB/s eta 0:00:01\r",
      "\u001b[K     |██████████████████████████▏     | 993 kB 10.2 MB/s eta 0:00:01\r",
      "\u001b[K     |██████████████████████████▌     | 1.0 MB 10.2 MB/s eta 0:00:01\r",
      "\u001b[K     |██████████████████████████▊     | 1.0 MB 10.2 MB/s eta 0:00:01\r",
      "\u001b[K     |███████████████████████████     | 1.0 MB 10.2 MB/s eta 0:00:01\r",
      "\u001b[K     |███████████████████████████▎    | 1.0 MB 10.2 MB/s eta 0:00:01\r",
      "\u001b[K     |███████████████████████████▌    | 1.0 MB 10.2 MB/s eta 0:00:01\r",
      "\u001b[K     |███████████████████████████▉    | 1.1 MB 10.2 MB/s eta 0:00:01\r",
      "\u001b[K     |████████████████████████████    | 1.1 MB 10.2 MB/s eta 0:00:01\r",
      "\u001b[K     |████████████████████████████▍   | 1.1 MB 10.2 MB/s eta 0:00:01\r",
      "\u001b[K     |████████████████████████████▋   | 1.1 MB 10.2 MB/s eta 0:00:01\r",
      "\u001b[K     |████████████████████████████▉   | 1.1 MB 10.2 MB/s eta 0:00:01\r",
      "\u001b[K     |█████████████████████████████▏  | 1.1 MB 10.2 MB/s eta 0:00:01\r",
      "\u001b[K     |█████████████████████████████▍  | 1.1 MB 10.2 MB/s eta 0:00:01\r",
      "\u001b[K     |█████████████████████████████▊  | 1.1 MB 10.2 MB/s eta 0:00:01\r",
      "\u001b[K     |██████████████████████████████  | 1.1 MB 10.2 MB/s eta 0:00:01\r",
      "\u001b[K     |██████████████████████████████▎ | 1.1 MB 10.2 MB/s eta 0:00:01\r",
      "\u001b[K     |██████████████████████████████▌ | 1.2 MB 10.2 MB/s eta 0:00:01\r",
      "\u001b[K     |██████████████████████████████▊ | 1.2 MB 10.2 MB/s eta 0:00:01\r",
      "\u001b[K     |███████████████████████████████ | 1.2 MB 10.2 MB/s eta 0:00:01\r",
      "\u001b[K     |███████████████████████████████▎| 1.2 MB 10.2 MB/s eta 0:00:01\r",
      "\u001b[K     |███████████████████████████████▋| 1.2 MB 10.2 MB/s eta 0:00:01\r",
      "\u001b[K     |███████████████████████████████▉| 1.2 MB 10.2 MB/s eta 0:00:01\r",
      "\u001b[K     |████████████████████████████████| 1.2 MB 10.2 MB/s \n",
      "\u001b[?25hInstalling collected packages: sentencepiece\n",
      "Successfully installed sentencepiece-0.1.96\n"
     ]
    }
   ],
   "source": [
    "! pip install sentencepiece"
   ]
  },
  {
   "cell_type": "code",
   "execution_count": 15,
   "metadata": {
    "id": "J4tZvIlWEN3Y"
   },
   "outputs": [],
   "source": [
    "import tensorflow_hub as hub\n",
    "from sklearn import preprocessing\n",
    "import tokenization\n"
   ]
  },
  {
   "cell_type": "code",
   "execution_count": 16,
   "metadata": {
    "id": "xkSUlQy2AjZt"
   },
   "outputs": [],
   "source": [
    "m_url = 'https://tfhub.dev/tensorflow/bert_en_uncased_L-12_H-768_A-12/2'\n",
    "bert_layer = hub.KerasLayer(m_url, trainable=True)"
   ]
  },
  {
   "cell_type": "code",
   "execution_count": 17,
   "metadata": {
    "id": "b6cWQnwA__x6"
   },
   "outputs": [],
   "source": [
    "\n",
    "vocab_file = bert_layer.resolved_object.vocab_file.asset_path.numpy()\n",
    "do_lower_case = bert_layer.resolved_object.do_lower_case.numpy()\n",
    "tokenizer = tokenization.FullTokenizer(vocab_file, do_lower_case)\n",
    "\n",
    "def bert_encode(texts, tokenizer, max_len=300):\n",
    "    all_tokens = []\n",
    "    all_masks = []\n",
    "    all_segments = []\n",
    "    \n",
    "    for text in texts:\n",
    "        text = tokenizer.tokenize(text)\n",
    "        \n",
    "        text = text[:max_len-2]\n",
    "        input_sequence = [\"[CLS]\"] + text + [\"[SEP]\"]\n",
    "        pad_len = max_len-len(input_sequence)\n",
    "        \n",
    "        tokens = tokenizer.convert_tokens_to_ids(input_sequence) + [0] * pad_len\n",
    "        pad_masks = [1] * len(input_sequence) + [0] * pad_len\n",
    "        segment_ids = [0] * max_len\n",
    "        \n",
    "        all_tokens.append(tokens)\n",
    "        all_masks.append(pad_masks)\n",
    "        all_segments.append(segment_ids)\n",
    "        \n",
    "    return np.array(all_tokens), np.array(all_masks), np.array(all_segments)"
   ]
  },
  {
   "cell_type": "code",
   "execution_count": 18,
   "metadata": {
    "id": "I9KgRvMdA1jo"
   },
   "outputs": [],
   "source": [
    "max_len = 300\n",
    "train_long_answers = bert_encode(train_df['long_answer'].values, tokenizer, max_len=max_len)\n",
    "\n",
    "train_questions = bert_encode(train_df['question'].values, tokenizer, max_len=max_len)\n",
    "\n",
    "val_questions = bert_encode(val_df['question'].values, tokenizer, max_len=max_len)\n",
    "\n",
    "val_long_answers = bert_encode(val_df['long_answer'].values, tokenizer, max_len=max_len)\n"
   ]
  },
  {
   "cell_type": "code",
   "execution_count": 19,
   "metadata": {
    "id": "F7mDqqbeKJxd"
   },
   "outputs": [],
   "source": [
    "input_word_ids_ans,input_mask_ans, segment_ids_ans = bert_encode(train_df['long_answer'].values, tokenizer, max_len=max_len)\n",
    "input_word_ids_q,input_mask_q, segment_ids_q = bert_encode(train_df['question'].values, tokenizer, max_len=max_len)"
   ]
  },
  {
   "cell_type": "code",
   "execution_count": 20,
   "metadata": {
    "id": "uklDIqUnD7NT"
   },
   "outputs": [],
   "source": [
    "input_word_ids_ans_val,input_mask_ans_val, segment_ids_ans_val = bert_encode(val_df['long_answer'].values, tokenizer, max_len=max_len)\n",
    "input_word_ids_q_val,input_mask_q_val, segment_ids_q_val = bert_encode(val_df['question'].values, tokenizer, max_len=max_len)"
   ]
  },
  {
   "cell_type": "code",
   "execution_count": 21,
   "metadata": {
    "id": "37eO641-6AeI"
   },
   "outputs": [],
   "source": [
    "# labels\n",
    "\n",
    "train_labels = train_df.is_long_answer.astype(int).values\n",
    "val_labels = val_df.is_long_answer.astype(int).values"
   ]
  },
  {
   "cell_type": "code",
   "execution_count": null,
   "metadata": {
    "id": "0fe-rKo9rtuM"
   },
   "outputs": [],
   "source": [
    "input_word_ids = tf.keras.Input(shape=(max_len,), dtype=tf.int32, name=\"input_word_ids\")\n",
    "input_mask = tf.keras.Input(shape=(max_len,), dtype=tf.int32, name=\"input_mask\")\n",
    "segment_ids = tf.keras.Input(shape=(max_len,), dtype=tf.int32, name=\"segment_ids\")\n",
    "pooled_output, sequence_output = bert_layer([input_word_ids, input_mask, segment_ids])\n",
    "\n",
    "clf_output = sequence_output[:, 0, :]\n",
    "\n",
    "\n",
    "input_word_ids1 = tf.keras.Input(shape=(max_len,), dtype=tf.int32, name=\"input_word_ids1\")\n",
    "input_mask1 = tf.keras.Input(shape=(max_len,), dtype=tf.int32, name=\"input_mask1\")\n",
    "segment_ids1 = tf.keras.Input(shape=(max_len,), dtype=tf.int32, name=\"segment_ids1\")\n",
    "pooled_output1, sequence_output1 = bert_layer([input_word_ids1, input_mask1, segment_ids1])\n",
    "\n",
    "clf_output1 = sequence_output1[:, 0, :]\n",
    "\n",
    "\n",
    "combined_x = concatenate([clf_output, clf_output1])\n",
    "combined_x = Dropout(0.1)(combined_x)\n",
    "combined_x = Dense(100, activation='relu')(combined_x)\n",
    "combined_x = Dropout(0.1)(combined_x)\n",
    "output = Dense(1, activation='sigmoid')(combined_x)\n",
    "\n",
    "#distance=tf.expand_dims(tf.reduce_sum(tf.multiply(clf_output, clf_output1),axis=1),axis=-1)\n",
    "#output = Dense(1, activation='sigmoid')(distance)\n",
    "\n",
    "model = tf.keras.models.Model(inputs=[input_word_ids,input_mask,segment_ids, input_word_ids1,input_mask1,segment_ids1], outputs=output)\n",
    "model.compile(loss='binary_crossentropy', optimizer='adam', metrics=['Accuracy', 'Recall', 'Precision'])"
   ]
  },
  {
   "cell_type": "code",
   "execution_count": null,
   "metadata": {
    "colab": {
     "base_uri": "https://localhost:8080/"
    },
    "id": "rYfq90LH6Lbv",
    "outputId": "29998c0b-fe63-4747-fdcb-6939cce279d5"
   },
   "outputs": [
    {
     "name": "stdout",
     "output_type": "stream",
     "text": [
      "Model: \"model\"\n",
      "__________________________________________________________________________________________________\n",
      " Layer (type)                   Output Shape         Param #     Connected to                     \n",
      "==================================================================================================\n",
      " input_word_ids (InputLayer)    [(None, 300)]        0           []                               \n",
      "                                                                                                  \n",
      " input_mask (InputLayer)        [(None, 300)]        0           []                               \n",
      "                                                                                                  \n",
      " segment_ids (InputLayer)       [(None, 300)]        0           []                               \n",
      "                                                                                                  \n",
      " input_word_ids1 (InputLayer)   [(None, 300)]        0           []                               \n",
      "                                                                                                  \n",
      " input_mask1 (InputLayer)       [(None, 300)]        0           []                               \n",
      "                                                                                                  \n",
      " segment_ids1 (InputLayer)      [(None, 300)]        0           []                               \n",
      "                                                                                                  \n",
      " keras_layer (KerasLayer)       [(None, 768),        109482241   ['input_word_ids[0][0]',         \n",
      "                                 (None, 300, 768)]                'input_mask[0][0]',             \n",
      "                                                                  'segment_ids[0][0]',            \n",
      "                                                                  'input_word_ids1[0][0]',        \n",
      "                                                                  'input_mask1[0][0]',            \n",
      "                                                                  'segment_ids1[0][0]']           \n",
      "                                                                                                  \n",
      " tf.__operators__.getitem (Slic  (None, 768)         0           ['keras_layer[0][1]']            \n",
      " ingOpLambda)                                                                                     \n",
      "                                                                                                  \n",
      " tf.__operators__.getitem_1 (Sl  (None, 768)         0           ['keras_layer[1][1]']            \n",
      " icingOpLambda)                                                                                   \n",
      "                                                                                                  \n",
      " tf.math.multiply (TFOpLambda)  (None, 768)          0           ['tf.__operators__.getitem[0][0]'\n",
      "                                                                 , 'tf.__operators__.getitem_1[0][\n",
      "                                                                 0]']                             \n",
      "                                                                                                  \n",
      " tf.math.reduce_sum (TFOpLambda  (None,)             0           ['tf.math.multiply[0][0]']       \n",
      " )                                                                                                \n",
      "                                                                                                  \n",
      " tf.expand_dims (TFOpLambda)    (None, 1)            0           ['tf.math.reduce_sum[0][0]']     \n",
      "                                                                                                  \n",
      " dense (Dense)                  (None, 1)            2           ['tf.expand_dims[0][0]']         \n",
      "                                                                                                  \n",
      "==================================================================================================\n",
      "Total params: 109,482,243\n",
      "Trainable params: 109,482,242\n",
      "Non-trainable params: 1\n",
      "__________________________________________________________________________________________________\n"
     ]
    }
   ],
   "source": [
    "model.summary()"
   ]
  },
  {
   "cell_type": "code",
   "execution_count": null,
   "metadata": {
    "colab": {
     "base_uri": "https://localhost:8080/",
     "height": 550
    },
    "id": "WNatiSH2GzCH",
    "outputId": "ab9a527e-d762-4529-c06e-4c5bda3425a5"
   },
   "outputs": [
    {
     "data": {
      "image/png": "[encoded data removed]",
      "text/plain": [
       "<IPython.core.display.Image object>"
      ]
     },
     "execution_count": 89,
     "metadata": {},
     "output_type": "execute_result"
    }
   ],
   "source": [
    "tf.keras.utils.plot_model(model)"
   ]
  },
  {
   "cell_type": "code",
   "execution_count": 23,
   "metadata": {
    "colab": {
     "base_uri": "https://localhost:8080/"
    },
    "id": "-oLzn9rxHaLt",
    "outputId": "42cc0c5c-23d3-44eb-d7a5-f2b173f19023"
   },
   "outputs": [
    {
     "name": "stdout",
     "output_type": "stream",
     "text": [
      "Epoch 1/2\n",
      "16171/16171 [==============================] - 8495s 524ms/step - loss: 0.2120 - Accuracy: 0.9482 - recall: 4.0000e-04 - precision: 0.0800 - val_loss: 0.2129 - val_Accuracy: 0.9480 - val_recall: 0.0000e+00 - val_precision: 0.0000e+00\n",
      "Epoch 2/2\n",
      "16171/16171 [==============================] - 8468s 524ms/step - loss: 0.2075 - Accuracy: 0.9485 - recall: 0.0000e+00 - precision: 0.0000e+00 - val_loss: 0.2189 - val_Accuracy: 0.9480 - val_recall: 0.0000e+00 - val_precision: 0.0000e+00\n"
     ]
    }
   ],
   "source": [
    "train_sh = model.fit(\n",
    "    [input_word_ids_q,input_mask_q, segment_ids_q,input_word_ids_ans,input_mask_ans, segment_ids_ans], train_labels,\n",
    "    validation_data = ([input_word_ids_q_val,input_mask_q_val, segment_ids_q_val,input_word_ids_ans_val,input_mask_ans_val, segment_ids_ans_val], val_labels),\n",
    "    epochs=2,\n",
    "    batch_size=6,\n",
    "    verbose=1\n",
    ")\n"
   ]
  },
  {
   "cell_type": "code",
   "execution_count": null,
   "metadata": {
    "colab": {
     "base_uri": "https://localhost:8080/"
    },
    "id": "KItK7g8oHpe8",
    "outputId": "f5252017-c50f-4d85-f573-8ee90601ecb3"
   },
   "outputs": [
    {
     "name": "stdout",
     "output_type": "stream",
     "text": [
      "87/87 [==============================] - 70s 792ms/step - loss: 0.2272 - accuracy: 0.9399\n",
      "Accuracy: 93.99\n"
     ]
    }
   ],
   "source": [
    "# evaluate the keras model\n",
    "_, accuracy = model.evaluate([input_word_ids_q_val,input_mask_q_val, segment_ids_q_val,input_word_ids_ans_val,input_mask_ans_val, segment_ids_ans_val], val_labels )\n",
    "print('Accuracy: %.2f' % (accuracy*100))"
   ]
  },
  {
   "cell_type": "code",
   "execution_count": 24,
   "metadata": {
    "id": "x-T1H7xvtDZL"
   },
   "outputs": [],
   "source": [
    "pred_train = model.predict([input_word_ids_q_val,input_mask_q_val, segment_ids_q_val,input_word_ids_ans_val,input_mask_ans_val, segment_ids_ans_val])"
   ]
  },
  {
   "cell_type": "code",
   "execution_count": 30,
   "metadata": {
    "id": "AEc5SKoAuMv1"
   },
   "outputs": [],
   "source": [
    "predict = [1 if i > 0.5 else 0 for i in pred_train ]"
   ]
  },
  {
   "cell_type": "code",
   "execution_count": 28,
   "metadata": {
    "id": "bfp5xYIlsTfB"
   },
   "outputs": [],
   "source": [
    "from sklearn.metrics import f1_score, precision_score, recall_score\n",
    "import seaborn as sns"
   ]
  },
  {
   "cell_type": "code",
   "execution_count": 2,
   "metadata": {
    "colab": {
     "base_uri": "https://localhost:8080/"
    },
    "id": "xcrVloRrsTP7",
    "outputId": "ba44f943-43fd-4eb8-f5f9-81835345ba19"
   },
   "outputs": [
    {
     "name": "stdout",
     "output_type": "stream",
     "text": [
      "F1 score 0.39\n",
      "precsion 0.32\n",
      "recall 0.505\n"
     ]
    }
   ],
   "source": [
    "print(\"F1 score\", f1_score(predict,val_labels , average='binary'))\n",
    "print(\"precsion\",precision_score(predict, val_labels, average='binary') )\n",
    "print(\"recall\", recall_score(predict, val_labels, average='binary'))\n",
    "\n",
    "\n"
   ]
  },
  {
   "cell_type": "code",
   "execution_count": null,
   "metadata": {
    "id": "9a438Z0YsPD4"
   },
   "outputs": [],
   "source": []
  },
  {
   "cell_type": "code",
   "execution_count": null,
   "metadata": {
    "id": "0Wgw38wRBZLz"
   },
   "outputs": [],
   "source": []
  }
 ],
 "metadata": {
  "accelerator": "GPU",
  "colab": {
   "machine_shape": "hm",
   "name": "Question answering BERT.ipynb",
   "provenance": []
  },
  "kernelspec": {
   "display_name": "Python 3",
   "language": "python",
   "name": "python3"
  },
  "language_info": {
   "codemirror_mode": {
    "name": "ipython",
    "version": 3
   },
   "file_extension": ".py",
   "mimetype": "text/x-python",
   "name": "python",
   "nbconvert_exporter": "python",
   "pygments_lexer": "ipython3",
   "version": "3.8.5"
  },
  "widgets": {
   "application/vnd.jupyter.widget-state+json": {
    "20e151a7dca04b81bbde867b9e62b253": {
     "model_module": "@jupyter-widgets/base",
     "model_module_version": "1.2.0",
     "model_name": "LayoutModel",
     "state": {
      "_model_module": "@jupyter-widgets/base",
      "_model_module_version": "1.2.0",
      "_model_name": "LayoutModel",
      "_view_count": null,
      "_view_module": "@jupyter-widgets/base",
      "_view_module_version": "1.2.0",
      "_view_name": "LayoutView",
      "align_content": null,
      "align_items": null,
      "align_self": null,
      "border": null,
      "bottom": null,
      "display": null,
      "flex": null,
      "flex_flow": null,
      "grid_area": null,
      "grid_auto_columns": null,
      "grid_auto_flow": null,
      "grid_auto_rows": null,
      "grid_column": null,
      "grid_gap": null,
      "grid_row": null,
      "grid_template_areas": null,
      "grid_template_columns": null,
      "grid_template_rows": null,
      "height": null,
      "justify_content": null,
      "justify_items": null,
      "left": null,
      "margin": null,
      "max_height": null,
      "max_width": null,
      "min_height": null,
      "min_width": null,
      "object_fit": null,
      "object_position": null,
      "order": null,
      "overflow": null,
      "overflow_x": null,
      "overflow_y": null,
      "padding": null,
      "right": null,
      "top": null,
      "visibility": null,
      "width": null
     }
    },
    "2862aa88dc4e4af6ade4a3fdf8afb1d4": {
     "model_module": "@jupyter-widgets/controls",
     "model_module_version": "1.5.0",
     "model_name": "DescriptionStyleModel",
     "state": {
      "_model_module": "@jupyter-widgets/controls",
      "_model_module_version": "1.5.0",
      "_model_name": "DescriptionStyleModel",
      "_view_count": null,
      "_view_module": "@jupyter-widgets/base",
      "_view_module_version": "1.2.0",
      "_view_name": "StyleView",
      "description_width": ""
     }
    },
    "308af9efb096453ba9337f8dc4bc0624": {
     "model_module": "@jupyter-widgets/controls",
     "model_module_version": "1.5.0",
     "model_name": "HBoxModel",
     "state": {
      "_dom_classes": [],
      "_model_module": "@jupyter-widgets/controls",
      "_model_module_version": "1.5.0",
      "_model_name": "HBoxModel",
      "_view_count": null,
      "_view_module": "@jupyter-widgets/controls",
      "_view_module_version": "1.5.0",
      "_view_name": "HBoxView",
      "box_style": "",
      "children": [
       "IPY_MODEL_76f631a6487a4315a320611dd64294a1",
       "IPY_MODEL_9a08b64f179d45048b06402350421ab3",
       "IPY_MODEL_ef47cb65046c47e9b1678d85b3ad565f"
      ],
      "layout": "IPY_MODEL_9b83964562294599b19c1b318f199df9"
     }
    },
    "521fe9032d12467caaa5d4351e1a27e7": {
     "model_module": "@jupyter-widgets/base",
     "model_module_version": "1.2.0",
     "model_name": "LayoutModel",
     "state": {
      "_model_module": "@jupyter-widgets/base",
      "_model_module_version": "1.2.0",
      "_model_name": "LayoutModel",
      "_view_count": null,
      "_view_module": "@jupyter-widgets/base",
      "_view_module_version": "1.2.0",
      "_view_name": "LayoutView",
      "align_content": null,
      "align_items": null,
      "align_self": null,
      "border": null,
      "bottom": null,
      "display": null,
      "flex": null,
      "flex_flow": null,
      "grid_area": null,
      "grid_auto_columns": null,
      "grid_auto_flow": null,
      "grid_auto_rows": null,
      "grid_column": null,
      "grid_gap": null,
      "grid_row": null,
      "grid_template_areas": null,
      "grid_template_columns": null,
      "grid_template_rows": null,
      "height": null,
      "justify_content": null,
      "justify_items": null,
      "left": null,
      "margin": null,
      "max_height": null,
      "max_width": null,
      "min_height": null,
      "min_width": null,
      "object_fit": null,
      "object_position": null,
      "order": null,
      "overflow": null,
      "overflow_x": null,
      "overflow_y": null,
      "padding": null,
      "right": null,
      "top": null,
      "visibility": null,
      "width": null
     }
    },
    "6647ed99e8c3493d8fedbcf5ddb5e8f1": {
     "model_module": "@jupyter-widgets/controls",
     "model_module_version": "1.5.0",
     "model_name": "DescriptionStyleModel",
     "state": {
      "_model_module": "@jupyter-widgets/controls",
      "_model_module_version": "1.5.0",
      "_model_name": "DescriptionStyleModel",
      "_view_count": null,
      "_view_module": "@jupyter-widgets/base",
      "_view_module_version": "1.2.0",
      "_view_name": "StyleView",
      "description_width": ""
     }
    },
    "6833dad953054dcc86342998d67c8b9e": {
     "model_module": "@jupyter-widgets/controls",
     "model_module_version": "1.5.0",
     "model_name": "DescriptionStyleModel",
     "state": {
      "_model_module": "@jupyter-widgets/controls",
      "_model_module_version": "1.5.0",
      "_model_name": "DescriptionStyleModel",
      "_view_count": null,
      "_view_module": "@jupyter-widgets/base",
      "_view_module_version": "1.2.0",
      "_view_name": "StyleView",
      "description_width": ""
     }
    },
    "6af2e99023be458dace8031d28fe026d": {
     "model_module": "@jupyter-widgets/controls",
     "model_module_version": "1.5.0",
     "model_name": "DescriptionStyleModel",
     "state": {
      "_model_module": "@jupyter-widgets/controls",
      "_model_module_version": "1.5.0",
      "_model_name": "DescriptionStyleModel",
      "_view_count": null,
      "_view_module": "@jupyter-widgets/base",
      "_view_module_version": "1.2.0",
      "_view_name": "StyleView",
      "description_width": ""
     }
    },
    "6ebc03bdeaa946e6bd06089939c1bb91": {
     "model_module": "@jupyter-widgets/base",
     "model_module_version": "1.2.0",
     "model_name": "LayoutModel",
     "state": {
      "_model_module": "@jupyter-widgets/base",
      "_model_module_version": "1.2.0",
      "_model_name": "LayoutModel",
      "_view_count": null,
      "_view_module": "@jupyter-widgets/base",
      "_view_module_version": "1.2.0",
      "_view_name": "LayoutView",
      "align_content": null,
      "align_items": null,
      "align_self": null,
      "border": null,
      "bottom": null,
      "display": null,
      "flex": null,
      "flex_flow": null,
      "grid_area": null,
      "grid_auto_columns": null,
      "grid_auto_flow": null,
      "grid_auto_rows": null,
      "grid_column": null,
      "grid_gap": null,
      "grid_row": null,
      "grid_template_areas": null,
      "grid_template_columns": null,
      "grid_template_rows": null,
      "height": null,
      "justify_content": null,
      "justify_items": null,
      "left": null,
      "margin": null,
      "max_height": null,
      "max_width": null,
      "min_height": null,
      "min_width": null,
      "object_fit": null,
      "object_position": null,
      "order": null,
      "overflow": null,
      "overflow_x": null,
      "overflow_y": null,
      "padding": null,
      "right": null,
      "top": null,
      "visibility": null,
      "width": null
     }
    },
    "76f631a6487a4315a320611dd64294a1": {
     "model_module": "@jupyter-widgets/controls",
     "model_module_version": "1.5.0",
     "model_name": "HTMLModel",
     "state": {
      "_dom_classes": [],
      "_model_module": "@jupyter-widgets/controls",
      "_model_module_version": "1.5.0",
      "_model_name": "HTMLModel",
      "_view_count": null,
      "_view_module": "@jupyter-widgets/controls",
      "_view_module_version": "1.5.0",
      "_view_name": "HTMLView",
      "description": "",
      "description_tooltip": null,
      "layout": "IPY_MODEL_521fe9032d12467caaa5d4351e1a27e7",
      "placeholder": "​",
      "style": "IPY_MODEL_2862aa88dc4e4af6ade4a3fdf8afb1d4",
      "value": "100%"
     }
    },
    "820e2e502a1544d6a76e3a54be5dc1ef": {
     "model_module": "@jupyter-widgets/base",
     "model_module_version": "1.2.0",
     "model_name": "LayoutModel",
     "state": {
      "_model_module": "@jupyter-widgets/base",
      "_model_module_version": "1.2.0",
      "_model_name": "LayoutModel",
      "_view_count": null,
      "_view_module": "@jupyter-widgets/base",
      "_view_module_version": "1.2.0",
      "_view_name": "LayoutView",
      "align_content": null,
      "align_items": null,
      "align_self": null,
      "border": null,
      "bottom": null,
      "display": null,
      "flex": null,
      "flex_flow": null,
      "grid_area": null,
      "grid_auto_columns": null,
      "grid_auto_flow": null,
      "grid_auto_rows": null,
      "grid_column": null,
      "grid_gap": null,
      "grid_row": null,
      "grid_template_areas": null,
      "grid_template_columns": null,
      "grid_template_rows": null,
      "height": null,
      "justify_content": null,
      "justify_items": null,
      "left": null,
      "margin": null,
      "max_height": null,
      "max_width": null,
      "min_height": null,
      "min_width": null,
      "object_fit": null,
      "object_position": null,
      "order": null,
      "overflow": null,
      "overflow_x": null,
      "overflow_y": null,
      "padding": null,
      "right": null,
      "top": null,
      "visibility": null,
      "width": null
     }
    },
    "85b09ad7db0a42058a023e382ed59758": {
     "model_module": "@jupyter-widgets/controls",
     "model_module_version": "1.5.0",
     "model_name": "HTMLModel",
     "state": {
      "_dom_classes": [],
      "_model_module": "@jupyter-widgets/controls",
      "_model_module_version": "1.5.0",
      "_model_name": "HTMLModel",
      "_view_count": null,
      "_view_module": "@jupyter-widgets/controls",
      "_view_module_version": "1.5.0",
      "_view_name": "HTMLView",
      "description": "",
      "description_tooltip": null,
      "layout": "IPY_MODEL_b6e734c22b9342b8961e137543abd840",
      "placeholder": "​",
      "style": "IPY_MODEL_6af2e99023be458dace8031d28fe026d",
      "value": "100%"
     }
    },
    "8bac557e893f46c39fc8d1e6b2a9ee39": {
     "model_module": "@jupyter-widgets/base",
     "model_module_version": "1.2.0",
     "model_name": "LayoutModel",
     "state": {
      "_model_module": "@jupyter-widgets/base",
      "_model_module_version": "1.2.0",
      "_model_name": "LayoutModel",
      "_view_count": null,
      "_view_module": "@jupyter-widgets/base",
      "_view_module_version": "1.2.0",
      "_view_name": "LayoutView",
      "align_content": null,
      "align_items": null,
      "align_self": null,
      "border": null,
      "bottom": null,
      "display": null,
      "flex": null,
      "flex_flow": null,
      "grid_area": null,
      "grid_auto_columns": null,
      "grid_auto_flow": null,
      "grid_auto_rows": null,
      "grid_column": null,
      "grid_gap": null,
      "grid_row": null,
      "grid_template_areas": null,
      "grid_template_columns": null,
      "grid_template_rows": null,
      "height": null,
      "justify_content": null,
      "justify_items": null,
      "left": null,
      "margin": null,
      "max_height": null,
      "max_width": null,
      "min_height": null,
      "min_width": null,
      "object_fit": null,
      "object_position": null,
      "order": null,
      "overflow": null,
      "overflow_x": null,
      "overflow_y": null,
      "padding": null,
      "right": null,
      "top": null,
      "visibility": null,
      "width": null
     }
    },
    "9a08b64f179d45048b06402350421ab3": {
     "model_module": "@jupyter-widgets/controls",
     "model_module_version": "1.5.0",
     "model_name": "FloatProgressModel",
     "state": {
      "_dom_classes": [],
      "_model_module": "@jupyter-widgets/controls",
      "_model_module_version": "1.5.0",
      "_model_name": "FloatProgressModel",
      "_view_count": null,
      "_view_module": "@jupyter-widgets/controls",
      "_view_module_version": "1.5.0",
      "_view_name": "ProgressView",
      "bar_style": "success",
      "description": "",
      "description_tooltip": null,
      "layout": "IPY_MODEL_6ebc03bdeaa946e6bd06089939c1bb91",
      "max": 2000,
      "min": 0,
      "orientation": "horizontal",
      "style": "IPY_MODEL_b71d9a547eb142a2a624ce71baf7572e",
      "value": 2000
     }
    },
    "9b83964562294599b19c1b318f199df9": {
     "model_module": "@jupyter-widgets/base",
     "model_module_version": "1.2.0",
     "model_name": "LayoutModel",
     "state": {
      "_model_module": "@jupyter-widgets/base",
      "_model_module_version": "1.2.0",
      "_model_name": "LayoutModel",
      "_view_count": null,
      "_view_module": "@jupyter-widgets/base",
      "_view_module_version": "1.2.0",
      "_view_name": "LayoutView",
      "align_content": null,
      "align_items": null,
      "align_self": null,
      "border": null,
      "bottom": null,
      "display": null,
      "flex": null,
      "flex_flow": null,
      "grid_area": null,
      "grid_auto_columns": null,
      "grid_auto_flow": null,
      "grid_auto_rows": null,
      "grid_column": null,
      "grid_gap": null,
      "grid_row": null,
      "grid_template_areas": null,
      "grid_template_columns": null,
      "grid_template_rows": null,
      "height": null,
      "justify_content": null,
      "justify_items": null,
      "left": null,
      "margin": null,
      "max_height": null,
      "max_width": null,
      "min_height": null,
      "min_width": null,
      "object_fit": null,
      "object_position": null,
      "order": null,
      "overflow": null,
      "overflow_x": null,
      "overflow_y": null,
      "padding": null,
      "right": null,
      "top": null,
      "visibility": null,
      "width": null
     }
    },
    "a4728aa32eb14f44b1c4aaf31344f8f9": {
     "model_module": "@jupyter-widgets/base",
     "model_module_version": "1.2.0",
     "model_name": "LayoutModel",
     "state": {
      "_model_module": "@jupyter-widgets/base",
      "_model_module_version": "1.2.0",
      "_model_name": "LayoutModel",
      "_view_count": null,
      "_view_module": "@jupyter-widgets/base",
      "_view_module_version": "1.2.0",
      "_view_name": "LayoutView",
      "align_content": null,
      "align_items": null,
      "align_self": null,
      "border": null,
      "bottom": null,
      "display": null,
      "flex": null,
      "flex_flow": null,
      "grid_area": null,
      "grid_auto_columns": null,
      "grid_auto_flow": null,
      "grid_auto_rows": null,
      "grid_column": null,
      "grid_gap": null,
      "grid_row": null,
      "grid_template_areas": null,
      "grid_template_columns": null,
      "grid_template_rows": null,
      "height": null,
      "justify_content": null,
      "justify_items": null,
      "left": null,
      "margin": null,
      "max_height": null,
      "max_width": null,
      "min_height": null,
      "min_width": null,
      "object_fit": null,
      "object_position": null,
      "order": null,
      "overflow": null,
      "overflow_x": null,
      "overflow_y": null,
      "padding": null,
      "right": null,
      "top": null,
      "visibility": null,
      "width": null
     }
    },
    "af243f579f554c7fb57eb38a481298b4": {
     "model_module": "@jupyter-widgets/controls",
     "model_module_version": "1.5.0",
     "model_name": "HTMLModel",
     "state": {
      "_dom_classes": [],
      "_model_module": "@jupyter-widgets/controls",
      "_model_module_version": "1.5.0",
      "_model_name": "HTMLModel",
      "_view_count": null,
      "_view_module": "@jupyter-widgets/controls",
      "_view_module_version": "1.5.0",
      "_view_name": "HTMLView",
      "description": "",
      "description_tooltip": null,
      "layout": "IPY_MODEL_820e2e502a1544d6a76e3a54be5dc1ef",
      "placeholder": "​",
      "style": "IPY_MODEL_6833dad953054dcc86342998d67c8b9e",
      "value": " 10000/10000 [00:09&lt;00:00, 1019.24it/s]"
     }
    },
    "b6e734c22b9342b8961e137543abd840": {
     "model_module": "@jupyter-widgets/base",
     "model_module_version": "1.2.0",
     "model_name": "LayoutModel",
     "state": {
      "_model_module": "@jupyter-widgets/base",
      "_model_module_version": "1.2.0",
      "_model_name": "LayoutModel",
      "_view_count": null,
      "_view_module": "@jupyter-widgets/base",
      "_view_module_version": "1.2.0",
      "_view_name": "LayoutView",
      "align_content": null,
      "align_items": null,
      "align_self": null,
      "border": null,
      "bottom": null,
      "display": null,
      "flex": null,
      "flex_flow": null,
      "grid_area": null,
      "grid_auto_columns": null,
      "grid_auto_flow": null,
      "grid_auto_rows": null,
      "grid_column": null,
      "grid_gap": null,
      "grid_row": null,
      "grid_template_areas": null,
      "grid_template_columns": null,
      "grid_template_rows": null,
      "height": null,
      "justify_content": null,
      "justify_items": null,
      "left": null,
      "margin": null,
      "max_height": null,
      "max_width": null,
      "min_height": null,
      "min_width": null,
      "object_fit": null,
      "object_position": null,
      "order": null,
      "overflow": null,
      "overflow_x": null,
      "overflow_y": null,
      "padding": null,
      "right": null,
      "top": null,
      "visibility": null,
      "width": null
     }
    },
    "b71d9a547eb142a2a624ce71baf7572e": {
     "model_module": "@jupyter-widgets/controls",
     "model_module_version": "1.5.0",
     "model_name": "ProgressStyleModel",
     "state": {
      "_model_module": "@jupyter-widgets/controls",
      "_model_module_version": "1.5.0",
      "_model_name": "ProgressStyleModel",
      "_view_count": null,
      "_view_module": "@jupyter-widgets/base",
      "_view_module_version": "1.2.0",
      "_view_name": "StyleView",
      "bar_color": null,
      "description_width": ""
     }
    },
    "da734e8a15ee41a8bbfe11744849edf7": {
     "model_module": "@jupyter-widgets/controls",
     "model_module_version": "1.5.0",
     "model_name": "HBoxModel",
     "state": {
      "_dom_classes": [],
      "_model_module": "@jupyter-widgets/controls",
      "_model_module_version": "1.5.0",
      "_model_name": "HBoxModel",
      "_view_count": null,
      "_view_module": "@jupyter-widgets/controls",
      "_view_module_version": "1.5.0",
      "_view_name": "HBoxView",
      "box_style": "",
      "children": [
       "IPY_MODEL_85b09ad7db0a42058a023e382ed59758",
       "IPY_MODEL_ee9ec5b0114242b9bbf90239f76128b5",
       "IPY_MODEL_af243f579f554c7fb57eb38a481298b4"
      ],
      "layout": "IPY_MODEL_8bac557e893f46c39fc8d1e6b2a9ee39"
     }
    },
    "ee9ec5b0114242b9bbf90239f76128b5": {
     "model_module": "@jupyter-widgets/controls",
     "model_module_version": "1.5.0",
     "model_name": "FloatProgressModel",
     "state": {
      "_dom_classes": [],
      "_model_module": "@jupyter-widgets/controls",
      "_model_module_version": "1.5.0",
      "_model_name": "FloatProgressModel",
      "_view_count": null,
      "_view_module": "@jupyter-widgets/controls",
      "_view_module_version": "1.5.0",
      "_view_name": "ProgressView",
      "bar_style": "success",
      "description": "",
      "description_tooltip": null,
      "layout": "IPY_MODEL_a4728aa32eb14f44b1c4aaf31344f8f9",
      "max": 10000,
      "min": 0,
      "orientation": "horizontal",
      "style": "IPY_MODEL_f12c0513dfea40bb877e171b189f9ffb",
      "value": 10000
     }
    },
    "ef47cb65046c47e9b1678d85b3ad565f": {
     "model_module": "@jupyter-widgets/controls",
     "model_module_version": "1.5.0",
     "model_name": "HTMLModel",
     "state": {
      "_dom_classes": [],
      "_model_module": "@jupyter-widgets/controls",
      "_model_module_version": "1.5.0",
      "_model_name": "HTMLModel",
      "_view_count": null,
      "_view_module": "@jupyter-widgets/controls",
      "_view_module_version": "1.5.0",
      "_view_name": "HTMLView",
      "description": "",
      "description_tooltip": null,
      "layout": "IPY_MODEL_20e151a7dca04b81bbde867b9e62b253",
      "placeholder": "​",
      "style": "IPY_MODEL_6647ed99e8c3493d8fedbcf5ddb5e8f1",
      "value": " 2000/2000 [00:01&lt;00:00, 1046.32it/s]"
     }
    },
    "f12c0513dfea40bb877e171b189f9ffb": {
     "model_module": "@jupyter-widgets/controls",
     "model_module_version": "1.5.0",
     "model_name": "ProgressStyleModel",
     "state": {
      "_model_module": "@jupyter-widgets/controls",
      "_model_module_version": "1.5.0",
      "_model_name": "ProgressStyleModel",
      "_view_count": null,
      "_view_module": "@jupyter-widgets/base",
      "_view_module_version": "1.2.0",
      "_view_name": "StyleView",
      "bar_color": null,
      "description_width": ""
     }
    }
   }
  }
 },
 "nbformat": 4,
 "nbformat_minor": 1
}
